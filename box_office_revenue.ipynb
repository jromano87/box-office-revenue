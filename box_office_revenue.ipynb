{
 "cells": [
  {
   "cell_type": "code",
   "execution_count": 1,
   "metadata": {},
   "outputs": [],
   "source": [
    "import numpy as np\n",
    "import pandas as pd\n",
    "import matplotlib.pyplot as plt\n",
    "import os\n",
    "\n",
    "TRAIN_FRACTION = 0.8\n",
    "NUM_EPOCHS = 150\n",
    "STEP_SIZE = 0.1\n",
    "\n",
    "# TODO: Add paragraphs of explanation at the top! Also give credit to sthalles and AI + Social Good there"
   ]
  },
  {
   "cell_type": "code",
   "execution_count": 2,
   "metadata": {},
   "outputs": [
    {
     "data": {
      "text/html": [
       "<div>\n",
       "<style scoped>\n",
       "    .dataframe tbody tr th:only-of-type {\n",
       "        vertical-align: middle;\n",
       "    }\n",
       "\n",
       "    .dataframe tbody tr th {\n",
       "        vertical-align: top;\n",
       "    }\n",
       "\n",
       "    .dataframe thead th {\n",
       "        text-align: right;\n",
       "    }\n",
       "</style>\n",
       "<table border=\"1\" class=\"dataframe\">\n",
       "  <thead>\n",
       "    <tr style=\"text-align: right;\">\n",
       "      <th></th>\n",
       "      <th>MLS</th>\n",
       "      <th>Location</th>\n",
       "      <th>Price</th>\n",
       "      <th>Bedrooms</th>\n",
       "      <th>Bathrooms</th>\n",
       "      <th>Size</th>\n",
       "      <th>Price/SQ.Ft</th>\n",
       "      <th>Status</th>\n",
       "    </tr>\n",
       "  </thead>\n",
       "  <tbody>\n",
       "    <tr>\n",
       "      <th>0</th>\n",
       "      <td>132842</td>\n",
       "      <td>Arroyo Grande</td>\n",
       "      <td>795000.0</td>\n",
       "      <td>3</td>\n",
       "      <td>3</td>\n",
       "      <td>2371</td>\n",
       "      <td>335.30</td>\n",
       "      <td>Short Sale</td>\n",
       "    </tr>\n",
       "    <tr>\n",
       "      <th>1</th>\n",
       "      <td>134364</td>\n",
       "      <td>Paso Robles</td>\n",
       "      <td>399000.0</td>\n",
       "      <td>4</td>\n",
       "      <td>3</td>\n",
       "      <td>2818</td>\n",
       "      <td>141.59</td>\n",
       "      <td>Short Sale</td>\n",
       "    </tr>\n",
       "    <tr>\n",
       "      <th>2</th>\n",
       "      <td>135141</td>\n",
       "      <td>Paso Robles</td>\n",
       "      <td>545000.0</td>\n",
       "      <td>4</td>\n",
       "      <td>3</td>\n",
       "      <td>3032</td>\n",
       "      <td>179.75</td>\n",
       "      <td>Short Sale</td>\n",
       "    </tr>\n",
       "    <tr>\n",
       "      <th>3</th>\n",
       "      <td>135712</td>\n",
       "      <td>Morro Bay</td>\n",
       "      <td>909000.0</td>\n",
       "      <td>4</td>\n",
       "      <td>4</td>\n",
       "      <td>3540</td>\n",
       "      <td>256.78</td>\n",
       "      <td>Short Sale</td>\n",
       "    </tr>\n",
       "    <tr>\n",
       "      <th>4</th>\n",
       "      <td>136282</td>\n",
       "      <td>Santa Maria-Orcutt</td>\n",
       "      <td>109900.0</td>\n",
       "      <td>3</td>\n",
       "      <td>1</td>\n",
       "      <td>1249</td>\n",
       "      <td>87.99</td>\n",
       "      <td>Short Sale</td>\n",
       "    </tr>\n",
       "  </tbody>\n",
       "</table>\n",
       "</div>"
      ],
      "text/plain": [
       "      MLS            Location     Price  Bedrooms  Bathrooms  Size  \\\n",
       "0  132842       Arroyo Grande  795000.0         3          3  2371   \n",
       "1  134364         Paso Robles  399000.0         4          3  2818   \n",
       "2  135141         Paso Robles  545000.0         4          3  3032   \n",
       "3  135712           Morro Bay  909000.0         4          4  3540   \n",
       "4  136282  Santa Maria-Orcutt  109900.0         3          1  1249   \n",
       "\n",
       "   Price/SQ.Ft      Status  \n",
       "0       335.30  Short Sale  \n",
       "1       141.59  Short Sale  \n",
       "2       179.75  Short Sale  \n",
       "3       256.78  Short Sale  \n",
       "4        87.99  Short Sale  "
      ]
     },
     "execution_count": 2,
     "metadata": {},
     "output_type": "execute_result"
    }
   ],
   "source": [
    "housing_data = pd.read_csv(\"./real_estate.csv\", sep=\",\")\n",
    "housing_data.head()\n",
    "\n",
    "# Possibly have them identify what might be interesting to build a model on (answer is housing price vs. size).\n",
    "# You could frame this as: \"We want to predict housing prices given relevant features. Which one immediately stands out?\n",
    "# Part of good AI is understanding data.\""
   ]
  },
  {
   "cell_type": "code",
   "execution_count": 3,
   "metadata": {},
   "outputs": [
    {
     "data": {
      "text/plain": [
       "Text(0.5, 1.0, 'Housing Price vs. Size')"
      ]
     },
     "execution_count": 3,
     "metadata": {},
     "output_type": "execute_result"
    },
    {
     "data": {
      "image/png": "[encoded data removed]",
      "text/plain": [
       "<Figure size 432x288 with 1 Axes>"
      ]
     },
     "metadata": {
      "needs_background": "light"
     },
     "output_type": "display_data"
    }
   ],
   "source": [
    "X_ind = housing_data[[\"Size\"]]\n",
    "Y_dep = housing_data[[\"Price\"]]\n",
    "\n",
    "plt.plot(X_ind, Y_dep, \"ro\", markeredgewidth=0.1)\n",
    "plt.title(\"Housing Price vs. Size\", pad=10)\n",
    "# TODO: Add axes and title to graph!\n",
    "# TODO: Consider having them segment by Location, Bedrooms, Bathrooms, etc. "
   ]
  },
  {
   "cell_type": "code",
   "execution_count": 4,
   "metadata": {},
   "outputs": [
    {
     "data": {
      "text/plain": [
       "'\\nsize_mean = np.mean(independent_var)\\nsize_std = np.std(independent_var)\\n\\nprice_mean = np.mean(dependent_var)\\nprice_std = np.std(dependent_var)\\n\\nnorm_ind = (independent_var - size_mean) / size_std # explain that you can divide entire arrays/matrices with numpy\\nnorm_dep = (dependent_var - price_mean) / price_std # consider renaming variables away from independent/dependent\\n\\nplt.plot(norm_ind, norm_dep, \"ro\", markeredgewidth=0.1)\\n'"
      ]
     },
     "execution_count": 4,
     "metadata": {},
     "output_type": "execute_result"
    }
   ],
   "source": [
    "\"\"\"\n",
    "size_mean = np.mean(independent_var)\n",
    "size_std = np.std(independent_var)\n",
    "\n",
    "price_mean = np.mean(dependent_var)\n",
    "price_std = np.std(dependent_var)\n",
    "\n",
    "norm_ind = (independent_var - size_mean) / size_std # explain that you can divide entire arrays/matrices with numpy\n",
    "norm_dep = (dependent_var - price_mean) / price_std # consider renaming variables away from independent/dependent\n",
    "\n",
    "plt.plot(norm_ind, norm_dep, \"ro\", markeredgewidth=0.1)\n",
    "\"\"\"\n",
    "# Leaving out normalization for now. Discuss this with TechEd\n",
    "\n",
    "# Explain when normalizing the data may be a good idea\n",
    "# TODO: Ask TechEd if it makes sense here / how to explain when to use or not use\n",
    "# Explain the different types of normalization?\n",
    "\n",
    "# UPDATE: Results come out with weird scale (lowest X is negative)\n",
    "# QUESTION: If you normalize, then how do you get back the actual, un-normalized price prediction when making a new prediction?"
   ]
  },
  {
   "cell_type": "code",
   "execution_count": 5,
   "metadata": {},
   "outputs": [],
   "source": [
    "# Going from (781,1) to (781,) \n",
    "X_ind = X_ind.squeeze()\n",
    "Y_dep = Y_dep.squeeze()"
   ]
  },
  {
   "cell_type": "code",
   "execution_count": 6,
   "metadata": {},
   "outputs": [],
   "source": [
    "# Normalizing input features\n",
    "min_size = np.min(X_ind)\n",
    "max_size = np.max(X_ind)\n",
    "min_price = np.min(Y_dep)\n",
    "max_price = np.max(Y_dep)\n",
    "\n",
    "X_ind = (X_ind - min_size) / (max_size - min_size)\n",
    "Y_dep = (Y_dep - min_price) / (max_price - min_price)"
   ]
  },
  {
   "cell_type": "code",
   "execution_count": 7,
   "metadata": {},
   "outputs": [],
   "source": [
    "# Shuffling the data\n",
    "#X_ind = np.random.permutation(X_ind)\n",
    "# Y_dep = np.random.permutation(Y_dep)\n",
    "p = np.random.permutation(len(X_ind))\n",
    "X_ind = X_ind[p]\n",
    "Y_dep = Y_dep[p]"
   ]
  },
  {
   "cell_type": "code",
   "execution_count": 8,
   "metadata": {},
   "outputs": [],
   "source": [
    "# Splitting training/test sets\n",
    "# NOTE: this is something that should be done by attendees using list indexing\n",
    "num_datapoints = X_ind.shape[0] # could just as easily be Y_dep.shape[0]\n",
    "train_cutoff = int(TRAIN_FRACTION * num_datapoints) # index that divides training from test data\n",
    "\n",
    "X_train = X_ind[0:train_cutoff] # could take this time to explain how list indexing works (last is exclusive, first is inclusive, etc.) \n",
    "X_test = X_ind[train_cutoff:]\n",
    "Y_train = Y_dep[0:train_cutoff]\n",
    "Y_test = Y_dep[train_cutoff:]\n",
    "\n",
    "# TODO: Find some way to test that students are right: add asserts?"
   ]
  },
  {
   "cell_type": "code",
   "execution_count": 9,
   "metadata": {},
   "outputs": [
    {
     "data": {
      "text/plain": [
       "Text(0.5, 1.0, 'Normalized Housing Price vs. Size')"
      ]
     },
     "execution_count": 9,
     "metadata": {},
     "output_type": "execute_result"
    },
    {
     "data": {
      "image/png": "[encoded data removed]",
      "text/plain": [
       "<Figure size 432x288 with 1 Axes>"
      ]
     },
     "metadata": {
      "needs_background": "light"
     },
     "output_type": "display_data"
    }
   ],
   "source": [
    "plt.plot(X_train, Y_train, \"ro\", markeredgewidth=0.1)\n",
    "plt.title(\"Normalized Housing Price vs. Size\", pad=10)"
   ]
  },
  {
   "cell_type": "code",
   "execution_count": 10,
   "metadata": {},
   "outputs": [
    {
     "data": {
      "text/plain": [
       "'def squared_loss(weights, X_feature, Y_label):\\n    return (weights*X_feature - Y_label)**2'"
      ]
     },
     "execution_count": 10,
     "metadata": {},
     "output_type": "execute_result"
    }
   ],
   "source": [
    "# only for one dimension\n",
    "\"\"\"def squared_loss(weights, X_feature, Y_label):\n",
    "    return (weights*X_feature - Y_label)**2\"\"\""
   ]
  },
  {
   "cell_type": "code",
   "execution_count": 11,
   "metadata": {},
   "outputs": [
    {
     "data": {
      "text/plain": [
       "'\\nweights = 0 # only one feature, right? # rows in X_ind are the number of examples while columns are the number of features, and we only have one feature\\n\\nnum_epochs = 150\\nfor epoch in range(1, NUM_EPOCHS):\\n    weights -= STEP_SIZE * squared_loss(weights, X_ind[epoch], Y_dep[epoch]) # Q: Is the whole idea of SGD that you only do one example per epoch?\\n    # TODO: make this a function like in example Q: What to pass in?\\nprint(\"weights: \", weights)\\n# Q: What am I doing wrong with my algorithm? Do I need more features?'"
      ]
     },
     "execution_count": 11,
     "metadata": {},
     "output_type": "execute_result"
    }
   ],
   "source": [
    "# Have them compute mean squared error?\n",
    "# TODO: Need to implement algorithm!\n",
    "# NOTE: My own attempt. Biggest question is that there is only one feature? How to stop getting -inf then?\n",
    "\"\"\"\n",
    "weights = 0 # only one feature, right? # rows in X_ind are the number of examples while columns are the number of features, and we only have one feature\n",
    "\n",
    "num_epochs = 150\n",
    "for epoch in range(1, NUM_EPOCHS):\n",
    "    weights -= STEP_SIZE * squared_loss(weights, X_ind[epoch], Y_dep[epoch]) # Q: Is the whole idea of SGD that you only do one example per epoch?\n",
    "    # TODO: make this a function like in example Q: What to pass in?\n",
    "print(\"weights: \", weights)\n",
    "# Q: What am I doing wrong with my algorithm? Do I need more features?\"\"\" "
   ]
  },
  {
   "cell_type": "code",
   "execution_count": 12,
   "metadata": {},
   "outputs": [],
   "source": [
    "min_x = np.min(X_train)\n",
    "max_x = np.max(X_train)"
   ]
  },
  {
   "cell_type": "code",
   "execution_count": 13,
   "metadata": {},
   "outputs": [],
   "source": [
    "# Define the Linear model\n",
    "# Initialize the weights using a normal (Gaussian) distribution with 0 mean and unit variance\n",
    "W0 = np.random.normal(loc=0, scale=0.02) # Y intercept\n",
    "W1 = np.asarray(np.random.normal(loc=0, scale=0.02)) # Slop of the line\n",
    "W1 = W1.reshape((1))"
   ]
  },
  {
   "cell_type": "code",
   "execution_count": 24,
   "metadata": {},
   "outputs": [],
   "source": [
    "def next_batch(Xs, Ys, batch_size=64):\n",
    "    p = np.random.permutation(len(Xs))\n",
    "    Xs = Xs[p]\n",
    "    Ys = Ys[p]\n",
    "    for i in range(0,Xs.shape[0],batch_size):\n",
    "        x_batch = Xs[i:i+batch_size]\n",
    "        if x_batch.shape[0] < batch_size:\n",
    "            continue\n",
    "        # print(\"x_batch shape: \", x_batch.shape)\n",
    "        # print(\"Ys shape: \", Ys[i:i+batch_size].shape)\n",
    "        # yield np.reshape(x_batch, (batch_size,-1)), Ys[i:i+batch_size]\n",
    "        # yield np.reshape(x_batch, Ys[i:i+batch_size])\n",
    "        # yield x_batch, Ys[i:i+batch_size]\n",
    "        yield np.reshape(x_batch, (batch_size)), Ys[i:i+batch_size] # this may be the solution, but then I get other errors about shape 96 and 1 not being aligned"
   ]
  },
  {
   "cell_type": "code",
   "execution_count": 20,
   "metadata": {},
   "outputs": [],
   "source": [
    "def eval_and_plot(W0, W1, min_x, max_x, id_):\n",
    "    min_y = W0 + np.dot(W1, min_x)\n",
    "    max_y = W0 + np.dot(W1, max_x)\n",
    "    plt.plot(Xs_train, Ys_train, 'ro')\n",
    "    plt.plot([min_x, max_x], [min_y, max_y], 'k-', lw=2)\n",
    "    #plt.savefig(\"./media/fit%(number)04d.png\" % {\"number\": id_})\n",
    "    #plt.clf()\n",
    "    plt.show()"
   ]
  },
  {
   "cell_type": "code",
   "execution_count": 21,
   "metadata": {},
   "outputs": [],
   "source": [
    "# defines the size of the step we want to perform in the direction of the gradient\n",
    "lr = 0.1\n",
    "\n",
    "# set the pocket weights\n",
    "W0_hat = np.inf\n",
    "W1_hat = np.inf\n",
    "best_hypothesis = np.inf\n",
    "\n",
    "validation_err_list = []\n",
    "training_err_list = []\n",
    "batch_size = 96\n",
    "total_epochs = 150"
   ]
  },
  {
   "cell_type": "code",
   "execution_count": 22,
   "metadata": {},
   "outputs": [],
   "source": [
    "def mean_squared_error(Ys_batch, Y_pred):\n",
    "    return np.mean((Ys_batch-Y_pred)**2)"
   ]
  },
  {
   "cell_type": "code",
   "execution_count": 27,
   "metadata": {},
   "outputs": [
    {
     "name": "stdout",
     "output_type": "stream",
     "text": [
      "X_batch shape:  (96,)\n",
      "y_batch shape:  (96,)\n",
      "W1 shape:  (1,)\n"
     ]
    },
    {
     "name": "stderr",
     "output_type": "stream",
     "text": [
      "/home/jromano/.local/lib/python3.6/site-packages/pandas/core/series.py:842: FutureWarning: \n",
      "Passing list-likes to .loc or [] with any missing label will raise\n",
      "KeyError in the future, you can use .reindex() as an alternative.\n",
      "\n",
      "See the documentation here:\n",
      "https://pandas.pydata.org/pandas-docs/stable/indexing.html#deprecate-loc-reindex-listlike\n",
      "  return self.loc[key]\n"
     ]
    },
    {
     "ename": "ValueError",
     "evalue": "shapes (96,) and (1,) not aligned: 96 (dim 0) != 1 (dim 0)",
     "output_type": "error",
     "traceback": [
      "\u001b[0;31m---------------------------------------------------------------------------\u001b[0m",
      "\u001b[0;31mValueError\u001b[0m                                Traceback (most recent call last)",
      "\u001b[0;32m<ipython-input-27-aa0dba04b701>\u001b[0m in \u001b[0;36m<module>\u001b[0;34m()\u001b[0m\n\u001b[1;32m      9\u001b[0m         \u001b[0mprint\u001b[0m\u001b[0;34m(\u001b[0m\u001b[0;34m\"y_batch shape: \"\u001b[0m\u001b[0;34m,\u001b[0m \u001b[0my_batch\u001b[0m\u001b[0;34m.\u001b[0m\u001b[0mshape\u001b[0m\u001b[0;34m)\u001b[0m\u001b[0;34m\u001b[0m\u001b[0m\n\u001b[1;32m     10\u001b[0m         \u001b[0mprint\u001b[0m\u001b[0;34m(\u001b[0m\u001b[0;34m\"W1 shape: \"\u001b[0m\u001b[0;34m,\u001b[0m \u001b[0mW1\u001b[0m\u001b[0;34m.\u001b[0m\u001b[0mshape\u001b[0m\u001b[0;34m)\u001b[0m\u001b[0;34m\u001b[0m\u001b[0m\n\u001b[0;32m---> 11\u001b[0;31m         \u001b[0mprint\u001b[0m\u001b[0;34m(\u001b[0m\u001b[0;34m\"np.dot shape: \"\u001b[0m\u001b[0;34m,\u001b[0m \u001b[0mnp\u001b[0m\u001b[0;34m.\u001b[0m\u001b[0mdot\u001b[0m\u001b[0;34m(\u001b[0m\u001b[0mX_batch\u001b[0m\u001b[0;34m,\u001b[0m \u001b[0mW1\u001b[0m\u001b[0;34m)\u001b[0m\u001b[0;34m.\u001b[0m\u001b[0mshape\u001b[0m\u001b[0;34m)\u001b[0m\u001b[0;34m\u001b[0m\u001b[0m\n\u001b[0m\u001b[1;32m     12\u001b[0m         \u001b[0mtrain_pred\u001b[0m \u001b[0;34m=\u001b[0m \u001b[0mW0\u001b[0m \u001b[0;34m+\u001b[0m \u001b[0mnp\u001b[0m\u001b[0;34m.\u001b[0m\u001b[0mdot\u001b[0m\u001b[0;34m(\u001b[0m\u001b[0mX_batch\u001b[0m\u001b[0;34m,\u001b[0m \u001b[0mW1\u001b[0m\u001b[0;34m)\u001b[0m\u001b[0;34m\u001b[0m\u001b[0m\n\u001b[1;32m     13\u001b[0m \u001b[0;34m\u001b[0m\u001b[0m\n",
      "\u001b[0;31mValueError\u001b[0m: shapes (96,) and (1,) not aligned: 96 (dim 0) != 1 (dim 0)"
     ]
    }
   ],
   "source": [
    "for epoch in range(NUM_EPOCHS):\n",
    "    erros = []\n",
    "    for X_batch, y_batch in next_batch(X_train, Y_train, batch_size=batch_size): \n",
    "        # (JR) NOTE: the yielding gets you batches as you go along. See https://www.geeksforgeeks.org/use-yield-keyword-instead-return-keyword-python/\n",
    "\n",
    "        # linearly combine input and weights\n",
    "        # print(\"W0 shape: \", W0.shape)\n",
    "        print(\"X_batch shape: \", X_batch.shape)\n",
    "        print(\"y_batch shape: \", y_batch.shape)\n",
    "        print(\"W1 shape: \", W1.shape)\n",
    "        print(\"np.dot shape: \", np.dot(X_batch, W1).shape) # IMPORTANT: Not understanding what he was trying to do here\n",
    "        train_pred = W0 + np.dot(X_batch, W1)\n",
    "    \n",
    "        # calculate the SSE between predicted and true values\n",
    "        train_err = mean_squared_error(y_batch, train_pred)\n",
    "        erros.append(train_err)\n",
    "        \n",
    "        # calculate the gradients with respect to W0 and W1\n",
    "        DW0 = -(2/batch_size) * sum(y_batch.squeeze() - train_pred.squeeze())\n",
    "        DW1 = -(2/batch_size) * sum(X_batch.squeeze() * (y_batch.squeeze() - train_pred.squeeze()))\n",
    "\n",
    "        # update W0 and W1 in the opposite direction to the gradient\n",
    "        W0 = W0 - lr * DW0\n",
    "        W1 = W1 - lr * DW1\n",
    "    \n",
    "    eval_and_plot(W0, W1, min_x, max_x, epoch+1)\n",
    "    training_err_list.append(np.mean(erros))\n",
    "    \n",
    "    # test in the end of epoch\n",
    "    val_pred = W0 + np.dot(np.reshape(X_test, (-1,1)), W1)\n",
    "    val_err = mean_squared_error(Y_test, val_pred)\n",
    "    print(\"Epoch:\", epoch, \"Generalization err:\", val_err)\n",
    "    validation_err_list.append(val_err)\n",
    "    \n",
    "    #epoch += 1\n",
    "    if val_err < best_hypothesis:\n",
    "        best_hypothesis = val_err\n",
    "        W0_hat = W0\n",
    "        W1_hat = W1"
   ]
  },
  {
   "cell_type": "code",
   "execution_count": null,
   "metadata": {},
   "outputs": [],
   "source": []
  },
  {
   "cell_type": "code",
   "execution_count": null,
   "metadata": {},
   "outputs": [],
   "source": []
  }
 ],
 "metadata": {
  "kernelspec": {
   "display_name": "Python 3",
   "language": "python",
   "name": "python3"
  },
  "language_info": {
   "codemirror_mode": {
    "name": "ipython",
    "version": 3
   },
   "file_extension": ".py",
   "mimetype": "text/x-python",
   "name": "python",
   "nbconvert_exporter": "python",
   "pygments_lexer": "ipython3",
   "version": "3.6.6"
  }
 },
 "nbformat": 4,
 "nbformat_minor": 2
}
