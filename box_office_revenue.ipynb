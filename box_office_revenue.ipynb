{
 "cells": [
  {
   "cell_type": "code",
   "execution_count": 64,
   "metadata": {},
   "outputs": [],
   "source": [
    "import numpy as np\n",
    "import pandas as pd\n",
    "import matplotlib.pyplot as plt\n",
    "\n",
    "TRAIN_FRACTION = 0.8\n",
    "\n",
    "# TODO: Add paragraphs of explanation at the top! Also give credit to sthalles and AI + Social Good there"
   ]
  },
  {
   "cell_type": "code",
   "execution_count": 65,
   "metadata": {},
   "outputs": [
    {
     "data": {
      "text/html": [
       "<div>\n",
       "<style scoped>\n",
       "    .dataframe tbody tr th:only-of-type {\n",
       "        vertical-align: middle;\n",
       "    }\n",
       "\n",
       "    .dataframe tbody tr th {\n",
       "        vertical-align: top;\n",
       "    }\n",
       "\n",
       "    .dataframe thead th {\n",
       "        text-align: right;\n",
       "    }\n",
       "</style>\n",
       "<table border=\"1\" class=\"dataframe\">\n",
       "  <thead>\n",
       "    <tr style=\"text-align: right;\">\n",
       "      <th></th>\n",
       "      <th>MLS</th>\n",
       "      <th>Location</th>\n",
       "      <th>Price</th>\n",
       "      <th>Bedrooms</th>\n",
       "      <th>Bathrooms</th>\n",
       "      <th>Size</th>\n",
       "      <th>Price/SQ.Ft</th>\n",
       "      <th>Status</th>\n",
       "    </tr>\n",
       "  </thead>\n",
       "  <tbody>\n",
       "    <tr>\n",
       "      <th>0</th>\n",
       "      <td>132842</td>\n",
       "      <td>Arroyo Grande</td>\n",
       "      <td>795000.0</td>\n",
       "      <td>3</td>\n",
       "      <td>3</td>\n",
       "      <td>2371</td>\n",
       "      <td>335.30</td>\n",
       "      <td>Short Sale</td>\n",
       "    </tr>\n",
       "    <tr>\n",
       "      <th>1</th>\n",
       "      <td>134364</td>\n",
       "      <td>Paso Robles</td>\n",
       "      <td>399000.0</td>\n",
       "      <td>4</td>\n",
       "      <td>3</td>\n",
       "      <td>2818</td>\n",
       "      <td>141.59</td>\n",
       "      <td>Short Sale</td>\n",
       "    </tr>\n",
       "    <tr>\n",
       "      <th>2</th>\n",
       "      <td>135141</td>\n",
       "      <td>Paso Robles</td>\n",
       "      <td>545000.0</td>\n",
       "      <td>4</td>\n",
       "      <td>3</td>\n",
       "      <td>3032</td>\n",
       "      <td>179.75</td>\n",
       "      <td>Short Sale</td>\n",
       "    </tr>\n",
       "    <tr>\n",
       "      <th>3</th>\n",
       "      <td>135712</td>\n",
       "      <td>Morro Bay</td>\n",
       "      <td>909000.0</td>\n",
       "      <td>4</td>\n",
       "      <td>4</td>\n",
       "      <td>3540</td>\n",
       "      <td>256.78</td>\n",
       "      <td>Short Sale</td>\n",
       "    </tr>\n",
       "    <tr>\n",
       "      <th>4</th>\n",
       "      <td>136282</td>\n",
       "      <td>Santa Maria-Orcutt</td>\n",
       "      <td>109900.0</td>\n",
       "      <td>3</td>\n",
       "      <td>1</td>\n",
       "      <td>1249</td>\n",
       "      <td>87.99</td>\n",
       "      <td>Short Sale</td>\n",
       "    </tr>\n",
       "  </tbody>\n",
       "</table>\n",
       "</div>"
      ],
      "text/plain": [
       "      MLS            Location     Price  Bedrooms  Bathrooms  Size  \\\n",
       "0  132842       Arroyo Grande  795000.0         3          3  2371   \n",
       "1  134364         Paso Robles  399000.0         4          3  2818   \n",
       "2  135141         Paso Robles  545000.0         4          3  3032   \n",
       "3  135712           Morro Bay  909000.0         4          4  3540   \n",
       "4  136282  Santa Maria-Orcutt  109900.0         3          1  1249   \n",
       "\n",
       "   Price/SQ.Ft      Status  \n",
       "0       335.30  Short Sale  \n",
       "1       141.59  Short Sale  \n",
       "2       179.75  Short Sale  \n",
       "3       256.78  Short Sale  \n",
       "4        87.99  Short Sale  "
      ]
     },
     "execution_count": 65,
     "metadata": {},
     "output_type": "execute_result"
    }
   ],
   "source": [
    "housing_data = pd.read_csv(\"./real_estate.csv\", sep=\",\")\n",
    "housing_data.head()\n",
    "\n",
    "# Possibly have them identify what might be interesting to build a model on (answer is housing price vs. size).\n",
    "# You could frame this as: \"We want to predict housing prices given relevant features. Which one immediately stands out?\n",
    "# Part of good AI is understanding data.\""
   ]
  },
  {
   "cell_type": "code",
   "execution_count": 66,
   "metadata": {},
   "outputs": [
    {
     "data": {
      "text/plain": [
       "Text(0.5, 1.0, 'Housing Price vs. Size')"
      ]
     },
     "execution_count": 66,
     "metadata": {},
     "output_type": "execute_result"
    },
    {
     "data": {
      "image/png": "[encoded data removed]",
      "text/plain": [
       "<Figure size 432x288 with 1 Axes>"
      ]
     },
     "metadata": {
      "needs_background": "light"
     },
     "output_type": "display_data"
    }
   ],
   "source": [
    "X_ind = housing_data[[\"Size\"]]\n",
    "Y_dep = housing_data[[\"Price\"]]\n",
    "\n",
    "plt.plot(X_ind, Y_dep, \"ro\", markeredgewidth=0.1)\n",
    "plt.title(\"Housing Price vs. Size\", pad=10)\n",
    "# TODO: Add axes and title to graph!\n",
    "# TODO: Consider having them segment by Location, Bedrooms, Bathrooms, etc. "
   ]
  },
  {
   "cell_type": "code",
   "execution_count": 67,
   "metadata": {},
   "outputs": [
    {
     "data": {
      "text/plain": [
       "'\\nsize_mean = np.mean(independent_var)\\nsize_std = np.std(independent_var)\\n\\nprice_mean = np.mean(dependent_var)\\nprice_std = np.std(dependent_var)\\n\\nnorm_ind = (independent_var - size_mean) / size_std # explain that you can divide entire arrays/matrices with numpy\\nnorm_dep = (dependent_var - price_mean) / price_std # consider renaming variables away from independent/dependent\\n\\nplt.plot(norm_ind, norm_dep, \"ro\", markeredgewidth=0.1)\\n'"
      ]
     },
     "execution_count": 67,
     "metadata": {},
     "output_type": "execute_result"
    }
   ],
   "source": [
    "\"\"\"\n",
    "size_mean = np.mean(independent_var)\n",
    "size_std = np.std(independent_var)\n",
    "\n",
    "price_mean = np.mean(dependent_var)\n",
    "price_std = np.std(dependent_var)\n",
    "\n",
    "norm_ind = (independent_var - size_mean) / size_std # explain that you can divide entire arrays/matrices with numpy\n",
    "norm_dep = (dependent_var - price_mean) / price_std # consider renaming variables away from independent/dependent\n",
    "\n",
    "plt.plot(norm_ind, norm_dep, \"ro\", markeredgewidth=0.1)\n",
    "\"\"\"\n",
    "# Leaving out normalization for now. Discuss this with TechEd\n",
    "\n",
    "# Explain when normalizing the data may be a good idea\n",
    "# TODO: Ask TechEd if it makes sense here / how to explain when to use or not use\n",
    "# Explain the different types of normalization?\n",
    "\n",
    "# UPDATE: Results come out with weird scale (lowest X is negative)\n",
    "# QUESTION: If you normalize, then how do you get back the actual, un-normalized price prediction when making a new prediction?"
   ]
  },
  {
   "cell_type": "code",
   "execution_count": 71,
   "metadata": {},
   "outputs": [],
   "source": [
    "# Shuffling the data\n",
    "X_ind = np.random.permutation(X_ind)\n",
    "Y_dep = np.random.permutation(Y_dep)\n",
    "\n",
    "# Splitting training/test sets\n",
    "# NOTE: this is something that should be done by attendees using list indexing\n",
    "num_datapoints = X_ind.shape[0] # could just as easily be Y_dep.shape[0]\n",
    "train_cutoff = int(TRAIN_FRACTION * num_datapoints) # index that divides training from test data\n",
    "\n",
    "X_ind_train = X_ind[0:train_cutoff] # could take this time to explain how list indexing works (last is exclusive, first is inclusive, etc.) \n",
    "X_ind_test = X_ind[train_cutoff:]\n",
    "Y_dep_train = Y_dep[0:train_cutoff]\n",
    "Y_dep_test = Y_dep[train_cutoff:]\n",
    "\n",
    "# TODO: Find some way to test that students are right: add asserts?"
   ]
  },
  {
   "cell_type": "code",
   "execution_count": null,
   "metadata": {},
   "outputs": [],
   "source": [
    "# Have them compute mean squared error?\n",
    "# TODO: Need to implement algorithm!"
   ]
  }
 ],
 "metadata": {
  "kernelspec": {
   "display_name": "Python 3",
   "language": "python",
   "name": "python3"
  },
  "language_info": {
   "codemirror_mode": {
    "name": "ipython",
    "version": 3
   },
   "file_extension": ".py",
   "mimetype": "text/x-python",
   "name": "python",
   "nbconvert_exporter": "python",
   "pygments_lexer": "ipython3",
   "version": "3.6.6"
  }
 },
 "nbformat": 4,
 "nbformat_minor": 2
}
